{
 "cells": [
  {
   "cell_type": "markdown",
   "metadata": {},
   "source": [
    "# 预测的误差\n",
    "\n",
    "一天的工作结束之后，作为冰淇淋店老板的你统计出来今天冰淇淋的销量是120。"
   ]
  },
  {
   "cell_type": "code",
   "execution_count": 1,
   "metadata": {},
   "outputs": [],
   "source": [
    "# 实际结果\n",
    "actual = 120"
   ]
  },
  {
   "cell_type": "markdown",
   "metadata": {},
   "source": [
    "这和早上的模型推理的预测结果116略有不同。"
   ]
  },
  {
   "cell_type": "markdown",
   "metadata": {},
   "source": [
    "# 损失函数\n",
    "\n",
    "预测结果与实际结果之间可能存在或大或小的误差。多种方法可以用来衡量这种误差。对于线性回归模型最常用的是平均平方差（MSE），公式为：\n",
    "\n",
    "$\\text{MSE} = \\frac{1}{n} \\sum_{i=1}^{n} (\\hat{y}_i - y_i)^2$\n",
    "\n",
    "其中，$\\hat{y}$ 是预测结果，而 $y$ 是实际结果。 \n",
    "\n",
    "在机器学习中，我们把这类公式称之为损失函数。损失函数主要用来衡量模型优劣，以及指导模型优化。"
   ]
  },
  {
   "cell_type": "code",
   "execution_count": 2,
   "metadata": {},
   "outputs": [],
   "source": [
    "# 损失函数（平均平方差）\n",
    "def mse_loss(p, y):\n",
    "    return ((p - y) ** 2).mean()"
   ]
  },
  {
   "cell_type": "markdown",
   "metadata": {},
   "source": [
    "现在，作为冰淇淋店老板的你可以衡量预测的准确性了。"
   ]
  },
  {
   "cell_type": "code",
   "execution_count": 3,
   "metadata": {},
   "outputs": [
    {
     "name": "stdout",
     "output_type": "stream",
     "text": [
      "销量预测：116\n",
      "平均平方差：15.2100\n"
     ]
    }
   ],
   "source": [
    "import numpy as np\n",
    "\n",
    "# 观测数据（温度，湿度）\n",
    "obs = np.array([25.3, 65.0])\n",
    "\n",
    "# 模型参数（权重，偏差）\n",
    "weight = np.array([2.0, 1.0])\n",
    "bias = 0.5\n",
    "\n",
    "# 模型推理函数\n",
    "def predict(x, w, b):\n",
    "    return x.dot(w.T) + b\n",
    "\n",
    "# 模型推理\n",
    "pred = predict(obs, weight, bias)\n",
    "print(f'销量预测：{pred:.0f}')\n",
    "\n",
    "# 模型评价\n",
    "error = mse_loss(pred, actual)\n",
    "print(f'平均平方差：{error:.4f}')"
   ]
  }
 ],
 "metadata": {
  "kernelspec": {
   "display_name": ".venv",
   "language": "python",
   "name": "python3"
  },
  "language_info": {
   "codemirror_mode": {
    "name": "ipython",
    "version": 3
   },
   "file_extension": ".py",
   "mimetype": "text/x-python",
   "name": "python",
   "nbconvert_exporter": "python",
   "pygments_lexer": "ipython3",
   "version": "3.12.3"
  }
 },
 "nbformat": 4,
 "nbformat_minor": 2
}
