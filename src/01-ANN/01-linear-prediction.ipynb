{
 "cells": [
  {
   "cell_type": "markdown",
   "metadata": {},
   "source": [
    "# 机器学习的基础架构\n",
    "\n",
    "机器学习的基本过程包括模型训练（参数学习）和模型推理（结果预测）两个步骤。模型训练（参数学习）就是从大量的数据中总结出规律（模型参数）；模型推理（结果预测）就是把得到的模型参数应用在新的观测数据上。"
   ]
  },
  {
   "cell_type": "markdown",
   "metadata": {},
   "source": [
    "```mermaid\n",
    "flowchart LR\n",
    "    A[/特征数据/] --> C((模型训练))\n",
    "    B[/标签数据/] --> C\n",
    "    C --> D[\\模型参数\\]\n",
    "    E[/观测数据/] --> F((模型推理))\n",
    "    D --> F\n",
    "    F --> G[\\预测结果\\]\n",
    "    \n",
    "    style A fill:#90CAF9,stroke:#1565C0,color:black\n",
    "    style B fill:#A5D6A7,stroke:#2E7D32,color:black\n",
    "    style C fill:#FFE082,stroke:#FFA000,color:black\n",
    "    style D fill:#CE93D8,stroke:#7B1FA2,color:black\n",
    "    style E fill:#FFCC80,stroke:#EF6C00,color:black\n",
    "    style F fill:#FFE082,stroke:#FFA000,color:black\n",
    "    style G fill:#EF9A9A,stroke:#C62828,color:black\n",
    "```"
   ]
  },
  {
   "cell_type": "markdown",
   "metadata": {},
   "source": [
    "相对而言，模型训练（参数学习）阶段的算法复杂度通常显著高于模型推理（结果预测）阶段，因此从模型推理（结果预测）入手是理解机器学习原理的有效切入点。"
   ]
  },
  {
   "cell_type": "markdown",
   "metadata": {},
   "source": [
    "# 最简单的模型\n",
    "\n",
    "最简单的机器学习模型就是线性回归模型。其公式为：\n",
    "\n",
    "$y = w_1 x_1 + w_2 x_2 + \\dots + w_n x_n + b$\n",
    "\n",
    "或者使用向量形式：\n",
    "\n",
    "$y = \\mathbf{x} \\cdot \\mathbf{w}^T + b$  \n",
    "\n",
    "其中，在模型训练（参数学习）阶段，$\\mathbf{x}$（$x_1, x_2 \\dots x_n$）是特征数据，$y$ 是标签数据，而权重$\\mathbf{w}$（$w_1, w_2 \\dots w_n$）和偏差 $b$ 组成了模型参数。模型训练（参数学习）的目的就是根据特征数据和标签数据推算出模型参数；而在模型推理（结果预测）阶段，$\\mathbf{x}$（$x_1, x_2 \\dots x_n$）是观测数据，$y$ 是预测结果。模型推理（结果预测）的目的就是根据观测数据和模型参数推算出预测结果。\n"
   ]
  },
  {
   "cell_type": "markdown",
   "metadata": {},
   "source": [
    "# 模型推理实例\n",
    "\n",
    "比如你是一家冰淇淋店的老板。你可以获得的数据包括每天的温度和湿度。你需要一个模型可以据此预测每天冰淇淋的销量。\n",
    "\n",
    "根据天气预报，今天的温度为25.3度，湿度为65。这样我们获得了一组由两个数值组成的观测数据。"
   ]
  },
  {
   "cell_type": "code",
   "execution_count": 1,
   "metadata": {},
   "outputs": [],
   "source": [
    "import numpy as np\n",
    "\n",
    "# 观测数据（温度，湿度）\n",
    "obs = np.array([25.3, 65.0])"
   ]
  },
  {
   "cell_type": "markdown",
   "metadata": {},
   "source": [
    "假设模型训练（参数学习）已经完成，你获得了一个包括三个参数（$w_1, w_2, b$）的模型。"
   ]
  },
  {
   "cell_type": "code",
   "execution_count": 2,
   "metadata": {},
   "outputs": [],
   "source": [
    "# 模型参数（权重，偏差）\n",
    "weight = np.array([2.0, 1.0])\n",
    "bias = 0.5"
   ]
  },
  {
   "cell_type": "markdown",
   "metadata": {},
   "source": [
    "根据线性回归模型的公式，我们可以建立模型推理函数。"
   ]
  },
  {
   "cell_type": "code",
   "execution_count": 3,
   "metadata": {},
   "outputs": [],
   "source": [
    "# 模型推理函数\n",
    "def predict(x, w, b):\n",
    "    return x.dot(w.T) + b"
   ]
  },
  {
   "cell_type": "markdown",
   "metadata": {},
   "source": [
    "这样，我们已经可以预测今天冰淇淋的销量了。"
   ]
  },
  {
   "cell_type": "code",
   "execution_count": 4,
   "metadata": {},
   "outputs": [
    {
     "name": "stdout",
     "output_type": "stream",
     "text": [
      "销量预测：116.10\n"
     ]
    }
   ],
   "source": [
    "# 模型推理\n",
    "pred = predict(obs, weight, bias)\n",
    "print(f'销量预测：{pred:.2f}')"
   ]
  },
  {
   "cell_type": "markdown",
   "metadata": {},
   "source": [
    "# 模型推理的误差\n",
    "\n",
    "一天的工作结束之后，作为冰淇淋店老板的你统计出来今天冰淇淋的销量是120。"
   ]
  },
  {
   "cell_type": "code",
   "execution_count": 5,
   "metadata": {},
   "outputs": [],
   "source": [
    "# 实际结果\n",
    "actual = 120"
   ]
  },
  {
   "cell_type": "markdown",
   "metadata": {},
   "source": [
    "这和之前模型推理的预测结果116略有不同。"
   ]
  },
  {
   "cell_type": "markdown",
   "metadata": {},
   "source": [
    "# 损失函数\n",
    "\n",
    "预测结果与实际结果之间可能存在或大或小的误差。多种方法可以用来衡量这种误差。对于线性回归模型最常用的是平均平方差（MSE），公式为：\n",
    "\n",
    "$\\text{MSE} = \\frac{1}{n} \\sum_{i=1}^{n} (\\hat{y}_i - y_i)^2$\n",
    "\n",
    "其中，$\\hat{y}$ 是预测结果，而 $y$ 是实际结果。 \n",
    "\n",
    "在机器学习中，我们把这类公式称之为损失函数。损失函数主要用来衡量模型优劣，以及指导模型优化。"
   ]
  },
  {
   "cell_type": "code",
   "execution_count": 6,
   "metadata": {},
   "outputs": [],
   "source": [
    "# 损失函数（平均平方差）\n",
    "def mse_loss(p, y):\n",
    "    return ((p - y) ** 2).mean()"
   ]
  },
  {
   "cell_type": "markdown",
   "metadata": {},
   "source": [
    "现在，作为冰淇淋店老板的你可以衡量预测的准确性了。"
   ]
  },
  {
   "cell_type": "code",
   "execution_count": 7,
   "metadata": {},
   "outputs": [
    {
     "name": "stdout",
     "output_type": "stream",
     "text": [
      "平均平方差：15.2100\n"
     ]
    }
   ],
   "source": [
    "# 模型评价\n",
    "error = mse_loss(pred, actual)\n",
    "print(f'平均平方差：{error:.4f}')"
   ]
  }
 ],
 "metadata": {
  "kernelspec": {
   "display_name": ".venv",
   "language": "python",
   "name": "python3"
  },
  "language_info": {
   "codemirror_mode": {
    "name": "ipython",
    "version": 3
   },
   "file_extension": ".py",
   "mimetype": "text/x-python",
   "name": "python",
   "nbconvert_exporter": "python",
   "pygments_lexer": "ipython3",
   "version": "3.12.3"
  }
 },
 "nbformat": 4,
 "nbformat_minor": 2
}
