{
 "cells": [
  {
   "cell_type": "markdown",
   "metadata": {},
   "source": [
    "# 机器学习的基础架构\n",
    "\n",
    "机器学习的基本过程包括模型训练（参数学习）和模型推理（结果预测）两个步骤。参数学习就是从大量的数据中总结出规律（参数）；结果预测就是把得到的规律（参数）应用在新的数据上。\n",
    "\n",
    "相对而言，参数学习阶段的算法复杂度通常显著高于结果预测阶段，因此从预测机制入手是理解机器学习原理的有效切入点。"
   ]
  }
 ],
 "metadata": {
  "kernelspec": {
   "display_name": ".venv",
   "language": "python",
   "name": "python3"
  },
  "language_info": {
   "name": "python",
   "version": "3.12.3"
  }
 },
 "nbformat": 4,
 "nbformat_minor": 2
}
